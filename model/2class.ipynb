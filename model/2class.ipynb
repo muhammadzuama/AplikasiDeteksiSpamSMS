{
  "cells": [
    {
      "cell_type": "code",
      "execution_count": 3,
      "metadata": {
        "id": "NeeTk2kgVCL4"
      },
      "outputs": [],
      "source": [
        "# ========== IMPORT ==========\n",
        "import torch\n",
        "import torch.nn as nn\n",
        "import torch.optim as optim\n",
        "from torch.utils.data import DataLoader, TensorDataset\n",
        "import pandas as pd\n",
        "import numpy as np\n",
        "import re\n",
        "from sklearn.preprocessing import LabelEncoder\n",
        "from collections import defaultdict\n",
        "from Sastrawi.StopWordRemover.StopWordRemoverFactory import StopWordRemoverFactory\n",
        "device = torch.device(\"cuda\" if torch.cuda.is_available() else \"cpu\")"
      ]
    },
    {
      "cell_type": "code",
      "execution_count": 4,
      "metadata": {
        "id": "xCsu_0DVVCL6",
        "outputId": "d3e22088-8ef5-444c-a21c-37576244ac49"
      },
      "outputs": [
        {
          "data": {
            "text/html": [
              "<div>\n",
              "<style scoped>\n",
              "    .dataframe tbody tr th:only-of-type {\n",
              "        vertical-align: middle;\n",
              "    }\n",
              "\n",
              "    .dataframe tbody tr th {\n",
              "        vertical-align: top;\n",
              "    }\n",
              "\n",
              "    .dataframe thead th {\n",
              "        text-align: right;\n",
              "    }\n",
              "</style>\n",
              "<table border=\"1\" class=\"dataframe\">\n",
              "  <thead>\n",
              "    <tr style=\"text-align: right;\">\n",
              "      <th></th>\n",
              "      <th>Kategori</th>\n",
              "      <th>Pesan</th>\n",
              "    </tr>\n",
              "  </thead>\n",
              "  <tbody>\n",
              "    <tr>\n",
              "      <th>0</th>\n",
              "      <td>spam</td>\n",
              "      <td>Secara alami tak tertahankan identitas perusah...</td>\n",
              "    </tr>\n",
              "    <tr>\n",
              "      <th>1</th>\n",
              "      <td>spam</td>\n",
              "      <td>Fanny Gunslinger Perdagangan Saham adalah Merr...</td>\n",
              "    </tr>\n",
              "    <tr>\n",
              "      <th>2</th>\n",
              "      <td>spam</td>\n",
              "      <td>Rumah -rumah baru yang luar biasa menjadi muda...</td>\n",
              "    </tr>\n",
              "    <tr>\n",
              "      <th>3</th>\n",
              "      <td>spam</td>\n",
              "      <td>4 Permintaan Khusus Pencetakan Warna Informasi...</td>\n",
              "    </tr>\n",
              "    <tr>\n",
              "      <th>4</th>\n",
              "      <td>spam</td>\n",
              "      <td>Jangan punya uang, dapatkan CD perangkat lunak...</td>\n",
              "    </tr>\n",
              "    <tr>\n",
              "      <th>...</th>\n",
              "      <td>...</td>\n",
              "      <td>...</td>\n",
              "    </tr>\n",
              "    <tr>\n",
              "      <th>2631</th>\n",
              "      <td>ham</td>\n",
              "      <td>Pengingat halo semuanya: Vince telah meminta s...</td>\n",
              "    </tr>\n",
              "    <tr>\n",
              "      <th>2632</th>\n",
              "      <td>ham</td>\n",
              "      <td>Re: Argentina Power &amp; Gas Market Modeling Oke ...</td>\n",
              "    </tr>\n",
              "    <tr>\n",
              "      <th>2633</th>\n",
              "      <td>ham</td>\n",
              "      <td>Re: Program Enron / Stanford Stinson, hebat! S...</td>\n",
              "    </tr>\n",
              "    <tr>\n",
              "      <th>2634</th>\n",
              "      <td>ham</td>\n",
              "      <td>Persetujuan untuk peninjau Roberts JR, Michael...</td>\n",
              "    </tr>\n",
              "    <tr>\n",
              "      <th>2635</th>\n",
              "      <td>ham</td>\n",
              "      <td>Re: Seminar Bollerslev sangat bagus. Terima ka...</td>\n",
              "    </tr>\n",
              "  </tbody>\n",
              "</table>\n",
              "<p>2636 rows × 2 columns</p>\n",
              "</div>"
            ],
            "text/plain": [
              "     Kategori                                              Pesan\n",
              "0        spam  Secara alami tak tertahankan identitas perusah...\n",
              "1        spam  Fanny Gunslinger Perdagangan Saham adalah Merr...\n",
              "2        spam  Rumah -rumah baru yang luar biasa menjadi muda...\n",
              "3        spam  4 Permintaan Khusus Pencetakan Warna Informasi...\n",
              "4        spam  Jangan punya uang, dapatkan CD perangkat lunak...\n",
              "...       ...                                                ...\n",
              "2631      ham  Pengingat halo semuanya: Vince telah meminta s...\n",
              "2632      ham  Re: Argentina Power & Gas Market Modeling Oke ...\n",
              "2633      ham  Re: Program Enron / Stanford Stinson, hebat! S...\n",
              "2634      ham  Persetujuan untuk peninjau Roberts JR, Michael...\n",
              "2635      ham  Re: Seminar Bollerslev sangat bagus. Terima ka...\n",
              "\n",
              "[2636 rows x 2 columns]"
            ]
          },
          "execution_count": 4,
          "metadata": {},
          "output_type": "execute_result"
        }
      ],
      "source": [
        "data = pd.read_csv('spam-2.csv')\n",
        "data"
      ]
    },
    {
      "cell_type": "code",
      "execution_count": 5,
      "metadata": {
        "id": "O82V7-7jVCL6",
        "outputId": "7343930f-ce92-4902-eee5-c8f1795f7d43"
      },
      "outputs": [
        {
          "data": {
            "text/html": [
              "<div>\n",
              "<style scoped>\n",
              "    .dataframe tbody tr th:only-of-type {\n",
              "        vertical-align: middle;\n",
              "    }\n",
              "\n",
              "    .dataframe tbody tr th {\n",
              "        vertical-align: top;\n",
              "    }\n",
              "\n",
              "    .dataframe thead th {\n",
              "        text-align: right;\n",
              "    }\n",
              "</style>\n",
              "<table border=\"1\" class=\"dataframe\">\n",
              "  <thead>\n",
              "    <tr style=\"text-align: right;\">\n",
              "      <th></th>\n",
              "      <th>Kategori</th>\n",
              "      <th>Pesan</th>\n",
              "    </tr>\n",
              "  </thead>\n",
              "  <tbody>\n",
              "    <tr>\n",
              "      <th>0</th>\n",
              "      <td>spam</td>\n",
              "      <td>Secara alami tak tertahankan identitas perusah...</td>\n",
              "    </tr>\n",
              "    <tr>\n",
              "      <th>1</th>\n",
              "      <td>spam</td>\n",
              "      <td>Fanny Gunslinger Perdagangan Saham adalah Merr...</td>\n",
              "    </tr>\n",
              "    <tr>\n",
              "      <th>2</th>\n",
              "      <td>spam</td>\n",
              "      <td>Rumah -rumah baru yang luar biasa menjadi muda...</td>\n",
              "    </tr>\n",
              "    <tr>\n",
              "      <th>3</th>\n",
              "      <td>spam</td>\n",
              "      <td>4 Permintaan Khusus Pencetakan Warna Informasi...</td>\n",
              "    </tr>\n",
              "    <tr>\n",
              "      <th>4</th>\n",
              "      <td>spam</td>\n",
              "      <td>Jangan punya uang, dapatkan CD perangkat lunak...</td>\n",
              "    </tr>\n",
              "    <tr>\n",
              "      <th>...</th>\n",
              "      <td>...</td>\n",
              "      <td>...</td>\n",
              "    </tr>\n",
              "    <tr>\n",
              "      <th>2631</th>\n",
              "      <td>ham</td>\n",
              "      <td>Pengingat halo semuanya: Vince telah meminta s...</td>\n",
              "    </tr>\n",
              "    <tr>\n",
              "      <th>2632</th>\n",
              "      <td>ham</td>\n",
              "      <td>Re: Argentina Power &amp; Gas Market Modeling Oke ...</td>\n",
              "    </tr>\n",
              "    <tr>\n",
              "      <th>2633</th>\n",
              "      <td>ham</td>\n",
              "      <td>Re: Program Enron / Stanford Stinson, hebat! S...</td>\n",
              "    </tr>\n",
              "    <tr>\n",
              "      <th>2634</th>\n",
              "      <td>ham</td>\n",
              "      <td>Persetujuan untuk peninjau Roberts JR, Michael...</td>\n",
              "    </tr>\n",
              "    <tr>\n",
              "      <th>2635</th>\n",
              "      <td>ham</td>\n",
              "      <td>Re: Seminar Bollerslev sangat bagus. Terima ka...</td>\n",
              "    </tr>\n",
              "  </tbody>\n",
              "</table>\n",
              "<p>2636 rows × 2 columns</p>\n",
              "</div>"
            ],
            "text/plain": [
              "     Kategori                                              Pesan\n",
              "0        spam  Secara alami tak tertahankan identitas perusah...\n",
              "1        spam  Fanny Gunslinger Perdagangan Saham adalah Merr...\n",
              "2        spam  Rumah -rumah baru yang luar biasa menjadi muda...\n",
              "3        spam  4 Permintaan Khusus Pencetakan Warna Informasi...\n",
              "4        spam  Jangan punya uang, dapatkan CD perangkat lunak...\n",
              "...       ...                                                ...\n",
              "2631      ham  Pengingat halo semuanya: Vince telah meminta s...\n",
              "2632      ham  Re: Argentina Power & Gas Market Modeling Oke ...\n",
              "2633      ham  Re: Program Enron / Stanford Stinson, hebat! S...\n",
              "2634      ham  Persetujuan untuk peninjau Roberts JR, Michael...\n",
              "2635      ham  Re: Seminar Bollerslev sangat bagus. Terima ka...\n",
              "\n",
              "[2636 rows x 2 columns]"
            ]
          },
          "execution_count": 5,
          "metadata": {},
          "output_type": "execute_result"
        }
      ],
      "source": [
        "def preprocessing(text):\n",
        "    # case folding\n",
        "    text = text.lower()\n",
        "\n",
        "    # remove punctuation and non-alphabetic characters\n",
        "    text = re.sub(r'[^\\w\\s]', '', text)\n",
        "\n",
        "    # remove numbers\n",
        "    text = re.sub(r'\\d+', '', text)\n",
        "\n",
        "    # stopword removal\n",
        "    factory = StopWordRemoverFactory()\n",
        "    stopwords = factory.get_stop_words()\n",
        "    words = text.split()\n",
        "    text = \" \".join([word for word in words if word not in stopwords])\n",
        "\n",
        "    return text\n",
        "data"
      ]
    },
    {
      "cell_type": "code",
      "execution_count": 6,
      "metadata": {
        "id": "gnh5huTQVCL7",
        "outputId": "92d27b47-5193-4c28-9dec-f366e41b25b0"
      },
      "outputs": [
        {
          "data": {
            "text/html": [
              "<div>\n",
              "<style scoped>\n",
              "    .dataframe tbody tr th:only-of-type {\n",
              "        vertical-align: middle;\n",
              "    }\n",
              "\n",
              "    .dataframe tbody tr th {\n",
              "        vertical-align: top;\n",
              "    }\n",
              "\n",
              "    .dataframe thead th {\n",
              "        text-align: right;\n",
              "    }\n",
              "</style>\n",
              "<table border=\"1\" class=\"dataframe\">\n",
              "  <thead>\n",
              "    <tr style=\"text-align: right;\">\n",
              "      <th></th>\n",
              "      <th>Kategori</th>\n",
              "      <th>Pesan</th>\n",
              "    </tr>\n",
              "  </thead>\n",
              "  <tbody>\n",
              "    <tr>\n",
              "      <th>0</th>\n",
              "      <td>spam</td>\n",
              "      <td>alami tak tertahankan identitas perusahaan san...</td>\n",
              "    </tr>\n",
              "    <tr>\n",
              "      <th>1</th>\n",
              "      <td>spam</td>\n",
              "      <td>fanny gunslinger perdagangan saham merrill muz...</td>\n",
              "    </tr>\n",
              "    <tr>\n",
              "      <th>2</th>\n",
              "      <td>spam</td>\n",
              "      <td>rumah rumah baru luar biasa menjadi mudah menu...</td>\n",
              "    </tr>\n",
              "    <tr>\n",
              "      <th>3</th>\n",
              "      <td>spam</td>\n",
              "      <td>permintaan khusus pencetakan warna informasi t...</td>\n",
              "    </tr>\n",
              "    <tr>\n",
              "      <th>4</th>\n",
              "      <td>spam</td>\n",
              "      <td>jangan punya uang dapatkan cd perangkat lunak ...</td>\n",
              "    </tr>\n",
              "    <tr>\n",
              "      <th>...</th>\n",
              "      <td>...</td>\n",
              "      <td>...</td>\n",
              "    </tr>\n",
              "    <tr>\n",
              "      <th>2631</th>\n",
              "      <td>ham</td>\n",
              "      <td>pengingat halo semuanya vince meminta mengirim...</td>\n",
              "    </tr>\n",
              "    <tr>\n",
              "      <th>2632</th>\n",
              "      <td>ham</td>\n",
              "      <td>re argentina power gas market modeling oke jul...</td>\n",
              "    </tr>\n",
              "    <tr>\n",
              "      <th>2633</th>\n",
              "      <td>ham</td>\n",
              "      <td>re program enron stanford stinson hebat menant...</td>\n",
              "    </tr>\n",
              "    <tr>\n",
              "      <th>2634</th>\n",
              "      <td>ham</td>\n",
              "      <td>persetujuan peninjau roberts jr michael a meny...</td>\n",
              "    </tr>\n",
              "    <tr>\n",
              "      <th>2635</th>\n",
              "      <td>ham</td>\n",
              "      <td>re seminar bollerslev sangat bagus terima kasi...</td>\n",
              "    </tr>\n",
              "  </tbody>\n",
              "</table>\n",
              "<p>2636 rows × 2 columns</p>\n",
              "</div>"
            ],
            "text/plain": [
              "     Kategori                                              Pesan\n",
              "0        spam  alami tak tertahankan identitas perusahaan san...\n",
              "1        spam  fanny gunslinger perdagangan saham merrill muz...\n",
              "2        spam  rumah rumah baru luar biasa menjadi mudah menu...\n",
              "3        spam  permintaan khusus pencetakan warna informasi t...\n",
              "4        spam  jangan punya uang dapatkan cd perangkat lunak ...\n",
              "...       ...                                                ...\n",
              "2631      ham  pengingat halo semuanya vince meminta mengirim...\n",
              "2632      ham  re argentina power gas market modeling oke jul...\n",
              "2633      ham  re program enron stanford stinson hebat menant...\n",
              "2634      ham  persetujuan peninjau roberts jr michael a meny...\n",
              "2635      ham  re seminar bollerslev sangat bagus terima kasi...\n",
              "\n",
              "[2636 rows x 2 columns]"
            ]
          },
          "execution_count": 6,
          "metadata": {},
          "output_type": "execute_result"
        }
      ],
      "source": [
        "data['Pesan'] = data['Pesan'].apply(preprocessing)\n",
        "data"
      ]
    },
    {
      "cell_type": "code",
      "execution_count": 7,
      "metadata": {
        "id": "yDLPU4CUVCL7",
        "outputId": "02c5f3ac-cf1e-45d0-a145-30f097f0e743"
      },
      "outputs": [
        {
          "data": {
            "text/html": [
              "<div>\n",
              "<style scoped>\n",
              "    .dataframe tbody tr th:only-of-type {\n",
              "        vertical-align: middle;\n",
              "    }\n",
              "\n",
              "    .dataframe tbody tr th {\n",
              "        vertical-align: top;\n",
              "    }\n",
              "\n",
              "    .dataframe thead th {\n",
              "        text-align: right;\n",
              "    }\n",
              "</style>\n",
              "<table border=\"1\" class=\"dataframe\">\n",
              "  <thead>\n",
              "    <tr style=\"text-align: right;\">\n",
              "      <th></th>\n",
              "      <th>Kategori</th>\n",
              "      <th>Pesan</th>\n",
              "    </tr>\n",
              "  </thead>\n",
              "  <tbody>\n",
              "    <tr>\n",
              "      <th>0</th>\n",
              "      <td>1</td>\n",
              "      <td>alami tak tertahankan identitas perusahaan san...</td>\n",
              "    </tr>\n",
              "    <tr>\n",
              "      <th>1</th>\n",
              "      <td>1</td>\n",
              "      <td>fanny gunslinger perdagangan saham merrill muz...</td>\n",
              "    </tr>\n",
              "    <tr>\n",
              "      <th>2</th>\n",
              "      <td>1</td>\n",
              "      <td>rumah rumah baru luar biasa menjadi mudah menu...</td>\n",
              "    </tr>\n",
              "    <tr>\n",
              "      <th>3</th>\n",
              "      <td>1</td>\n",
              "      <td>permintaan khusus pencetakan warna informasi t...</td>\n",
              "    </tr>\n",
              "    <tr>\n",
              "      <th>4</th>\n",
              "      <td>1</td>\n",
              "      <td>jangan punya uang dapatkan cd perangkat lunak ...</td>\n",
              "    </tr>\n",
              "    <tr>\n",
              "      <th>...</th>\n",
              "      <td>...</td>\n",
              "      <td>...</td>\n",
              "    </tr>\n",
              "    <tr>\n",
              "      <th>2631</th>\n",
              "      <td>0</td>\n",
              "      <td>pengingat halo semuanya vince meminta mengirim...</td>\n",
              "    </tr>\n",
              "    <tr>\n",
              "      <th>2632</th>\n",
              "      <td>0</td>\n",
              "      <td>re argentina power gas market modeling oke jul...</td>\n",
              "    </tr>\n",
              "    <tr>\n",
              "      <th>2633</th>\n",
              "      <td>0</td>\n",
              "      <td>re program enron stanford stinson hebat menant...</td>\n",
              "    </tr>\n",
              "    <tr>\n",
              "      <th>2634</th>\n",
              "      <td>0</td>\n",
              "      <td>persetujuan peninjau roberts jr michael a meny...</td>\n",
              "    </tr>\n",
              "    <tr>\n",
              "      <th>2635</th>\n",
              "      <td>0</td>\n",
              "      <td>re seminar bollerslev sangat bagus terima kasi...</td>\n",
              "    </tr>\n",
              "  </tbody>\n",
              "</table>\n",
              "<p>2636 rows × 2 columns</p>\n",
              "</div>"
            ],
            "text/plain": [
              "      Kategori                                              Pesan\n",
              "0            1  alami tak tertahankan identitas perusahaan san...\n",
              "1            1  fanny gunslinger perdagangan saham merrill muz...\n",
              "2            1  rumah rumah baru luar biasa menjadi mudah menu...\n",
              "3            1  permintaan khusus pencetakan warna informasi t...\n",
              "4            1  jangan punya uang dapatkan cd perangkat lunak ...\n",
              "...        ...                                                ...\n",
              "2631         0  pengingat halo semuanya vince meminta mengirim...\n",
              "2632         0  re argentina power gas market modeling oke jul...\n",
              "2633         0  re program enron stanford stinson hebat menant...\n",
              "2634         0  persetujuan peninjau roberts jr michael a meny...\n",
              "2635         0  re seminar bollerslev sangat bagus terima kasi...\n",
              "\n",
              "[2636 rows x 2 columns]"
            ]
          },
          "execution_count": 7,
          "metadata": {},
          "output_type": "execute_result"
        }
      ],
      "source": [
        "Le = LabelEncoder()\n",
        "data['Kategori'] = Le.fit_transform(data['Kategori'])\n",
        "data"
      ]
    },
    {
      "cell_type": "code",
      "execution_count": 8,
      "metadata": {
        "id": "1RwnEET0VCL7"
      },
      "outputs": [],
      "source": [
        "\n",
        "X_raw = data['Pesan'].tolist()\n",
        "y = torch.tensor(data['Kategori'].values).float().unsqueeze(1)\n"
      ]
    },
    {
      "cell_type": "code",
      "execution_count": 9,
      "metadata": {
        "id": "EBdpZMVWVCL7"
      },
      "outputs": [],
      "source": [
        "from collections import defaultdict\n",
        "\n",
        "# Tokenisasi dan vocab\n",
        "tokenized = [x.split() for x in X_raw]\n",
        "word2idx = defaultdict(lambda: len(word2idx))\n",
        "word2idx['<PAD>']  # index 0 untuk padding\n",
        "\n",
        "for tokens in tokenized:\n",
        "    for token in tokens:\n",
        "        word2idx[token]\n",
        "\n",
        "word2idx = dict(word2idx)  # freeze vocab\n",
        "\n",
        "vocab_size = len(word2idx)\n",
        "max_len = 100  # dibatasi\n",
        "\n",
        "# Encoding + Padding\n",
        "encoded = []\n",
        "for tokens in tokenized:\n",
        "    ids = [word2idx.get(word, 0) for word in tokens[:max_len]]\n",
        "    ids += [0] * (max_len - len(ids))\n",
        "    encoded.append(ids)\n",
        "\n",
        "X = torch.tensor(encoded)\n"
      ]
    },
    {
      "cell_type": "code",
      "execution_count": 10,
      "metadata": {
        "id": "piQYQjHSVCL7",
        "outputId": "5f65aba6-441e-4b2a-ec49-c7bd9dc53084"
      },
      "outputs": [
        {
          "data": {
            "text/plain": [
              "tensor([[    1,     2,     3,  ...,    44,    81,    22],\n",
              "        [  100,   101,   102,  ...,     0,     0,     0],\n",
              "        [  143,   143,   144,  ...,     0,     0,     0],\n",
              "        ...,\n",
              "        [ 1306,  1735, 15531,  ...,     0,     0,     0],\n",
              "        [  164,  2414,  4944,  ...,     0,     0,     0],\n",
              "        [ 1306,  4544, 19972,  ...,     0,     0,     0]])"
            ]
          },
          "execution_count": 10,
          "metadata": {},
          "output_type": "execute_result"
        }
      ],
      "source": [
        "X"
      ]
    },
    {
      "cell_type": "code",
      "execution_count": 11,
      "metadata": {
        "id": "3hhjPZVzVCL8",
        "outputId": "0da35663-ad56-42a7-bc3c-24889ecee9ad"
      },
      "outputs": [
        {
          "data": {
            "text/plain": [
              "tensor([[1.],\n",
              "        [1.],\n",
              "        [1.],\n",
              "        ...,\n",
              "        [0.],\n",
              "        [0.],\n",
              "        [0.]])"
            ]
          },
          "execution_count": 11,
          "metadata": {},
          "output_type": "execute_result"
        }
      ],
      "source": [
        "y"
      ]
    },
    {
      "cell_type": "code",
      "execution_count": 12,
      "metadata": {
        "id": "UjqF_eTHVCL8"
      },
      "outputs": [],
      "source": [
        "# Split train/test\n",
        "from sklearn.model_selection import train_test_split\n",
        "from torch.utils.data import DataLoader, TensorDataset\n",
        "X_train, X_test, y_train, y_test = train_test_split(X, y, test_size=0.2, random_state=42)\n",
        "\n",
        "batch_size = 32\n",
        "train_ds = TensorDataset(X_train, y_train)\n",
        "train_loader = DataLoader(train_ds, batch_size=batch_size, shuffle=True)\n"
      ]
    },
    {
      "cell_type": "code",
      "execution_count": 13,
      "metadata": {
        "id": "DumHYYpDVCL8"
      },
      "outputs": [],
      "source": [
        "class SpamDetection(nn.Module):\n",
        "    def __init__(self, vocab_size, embed_dim,  hidden_dim):\n",
        "        super(SpamDetection, self).__init__()\n",
        "        self.embedding = nn.Embedding(vocab_size, embed_dim)\n",
        "        self.lstm = nn.LSTM(embed_dim,  hidden_dim, batch_first=True)\n",
        "        self.dropout = nn.Dropout(0.3)\n",
        "        self.fc = nn.Linear( hidden_dim, 1)\n",
        "        self.sigmoid = nn.Sigmoid()\n",
        "\n",
        "    def forward(self, x):\n",
        "        x = self.embedding(x)\n",
        "        _, (h_n, _) = self.lstm(x)\n",
        "        h_n = h_n[-1]  # shape: (batch, hidden)\n",
        "        x = self.dropout(h_n)\n",
        "        x = self.fc(x)\n",
        "        x = self.sigmoid(x)\n",
        "        return x\n"
      ]
    },
    {
      "cell_type": "code",
      "execution_count": 14,
      "metadata": {
        "id": "CW4xZf9gVCL8",
        "outputId": "f9228a45-4bb3-4348-d827-6c31a26eb331"
      },
      "outputs": [
        {
          "name": "stdout",
          "output_type": "stream",
          "text": [
            "Epoch 1, Loss: 42.4297, Accuracy: 63.19%\n",
            "Epoch 2, Loss: 33.2447, Accuracy: 78.46%\n",
            "Epoch 3, Loss: 13.3850, Accuracy: 92.74%\n",
            "Epoch 4, Loss: 5.1625, Accuracy: 98.01%\n",
            "Epoch 5, Loss: 2.2506, Accuracy: 99.10%\n",
            "Epoch 6, Loss: 1.1171, Accuracy: 99.67%\n",
            "Epoch 7, Loss: 0.6818, Accuracy: 99.76%\n",
            "Epoch 8, Loss: 0.4099, Accuracy: 99.91%\n",
            "Epoch 9, Loss: 0.2586, Accuracy: 99.95%\n",
            "Epoch 10, Loss: 0.3583, Accuracy: 99.91%\n"
          ]
        }
      ],
      "source": [
        "model = SpamDetection(vocab_size, embed_dim=120, hidden_dim=120)\n",
        "criterion = nn.BCELoss()\n",
        "optimizer = optim.Adam(model.parameters(), lr=0.01)\n",
        "\n",
        "epochs = 10\n",
        "for epoch in range(epochs):\n",
        "    model.train()\n",
        "    total_loss, correct = 0, 0\n",
        "    for batch_x, batch_y in train_loader:\n",
        "        optimizer.zero_grad()\n",
        "        output = model(batch_x)\n",
        "        loss = criterion(output, batch_y)\n",
        "        loss.backward()\n",
        "        optimizer.step()\n",
        "\n",
        "        total_loss += loss.item()\n",
        "        preds = (output > 0.5).float()\n",
        "        correct += (preds == batch_y).float().sum().item()\n",
        "\n",
        "    acc = correct / len(X_train)\n",
        "    print(f\"Epoch {epoch+1}, Loss: {total_loss:.4f}, Accuracy: {acc:.2%}\")\n"
      ]
    },
    {
      "cell_type": "code",
      "execution_count": 15,
      "metadata": {
        "id": "pCZ5EMTIVCL8",
        "outputId": "beb01e7c-c270-4b37-83a6-b79b7ba4f6dd"
      },
      "outputs": [
        {
          "name": "stdout",
          "output_type": "stream",
          "text": [
            "\n",
            "Akurasi   : 94.51%\n",
            "Presisi   : 96.83%\n",
            "Recall    : 92.08%\n",
            "F1-score  : 94.39%\n",
            "\n",
            "Classification Report:\n",
            "              precision    recall  f1-score   support\n",
            "\n",
            "  Bukan Spam       0.92      0.97      0.95       263\n",
            "        Spam       0.97      0.92      0.94       265\n",
            "\n",
            "    accuracy                           0.95       528\n",
            "   macro avg       0.95      0.95      0.95       528\n",
            "weighted avg       0.95      0.95      0.95       528\n",
            "\n"
          ]
        }
      ],
      "source": [
        "from sklearn.metrics import accuracy_score, precision_score, recall_score, f1_score, classification_report\n",
        "model.eval()\n",
        "with torch.no_grad():\n",
        "    output = model(X_test)\n",
        "    preds = (output > 0.5).float()\n",
        "\n",
        "# Konversi ke NumPy\n",
        "y_true = y_test.squeeze().numpy()\n",
        "y_pred = preds.squeeze().numpy()\n",
        "\n",
        "# Hitung metrik\n",
        "acc = accuracy_score(y_true, y_pred)\n",
        "prec = precision_score(y_true, y_pred)\n",
        "rec = recall_score(y_true, y_pred)\n",
        "f1 = f1_score(y_true, y_pred)\n",
        "\n",
        "print(f\"\\nAkurasi   : {acc:.2%}\")\n",
        "print(f\"Presisi   : {prec:.2%}\")\n",
        "print(f\"Recall    : {rec:.2%}\")\n",
        "print(f\"F1-score  : {f1:.2%}\")\n",
        "\n",
        "# (Opsional) laporan lengkap\n",
        "print(\"\\nClassification Report:\")\n",
        "print(classification_report(y_true, y_pred, target_names=[\"Bukan Spam\", \"Spam\"]))\n"
      ]
    },
    {
      "cell_type": "code",
      "execution_count": 16,
      "metadata": {
        "id": "dsi4EIZqVCL8",
        "outputId": "ed79d7ae-51ad-46b2-ae1d-f34f5eab0554"
      },
      "outputs": [
        {
          "data": {
            "image/png": "[encoded data removed]",
            "text/plain": [
              "<Figure size 600x400 with 2 Axes>"
            ]
          },
          "metadata": {},
          "output_type": "display_data"
        }
      ],
      "source": [
        "from sklearn.metrics import confusion_matrix\n",
        "import seaborn as sns\n",
        "import matplotlib.pyplot as plt\n",
        "\n",
        "# Hitung confusion matrix\n",
        "cm = confusion_matrix(y_true, y_pred)\n",
        "\n",
        "# Tampilkan dengan seaborn heatmap\n",
        "plt.figure(figsize=(6, 4))\n",
        "sns.heatmap(cm, annot=True, fmt='d', cmap='Blues', xticklabels=[\"Bukan Spam\", \"Spam\"], yticklabels=[\"Bukan Spam\", \"Spam\"])\n",
        "plt.xlabel(\"Predicted Label\")\n",
        "plt.ylabel(\"True Label\")\n",
        "plt.title(\"Confusion Matrix\")\n",
        "plt.show()\n"
      ]
    },
    {
      "cell_type": "code",
      "execution_count": 19,
      "metadata": {
        "id": "TzrVroykVCL9",
        "outputId": "3b636a09-d056-4cbc-badd-3266ac913f25"
      },
      "outputs": [
        {
          "name": "stdout",
          "output_type": "stream",
          "text": [
            "Spam\n",
            "Spam\n",
            "Spam\n",
            "Bukan Spam\n"
          ]
        }
      ],
      "source": [
        "def predict(text):\n",
        "    text = preprocessing(text)\n",
        "    tokens = text.split()\n",
        "    ids = [word2idx.get(word, 0) for word in tokens[:max_len]]\n",
        "    ids += [0] * (max_len - len(ids))\n",
        "    input_tensor = torch.tensor([ids])\n",
        "\n",
        "    model.eval()\n",
        "    with torch.no_grad():\n",
        "        output = model(input_tensor)\n",
        "        pred = (output > 0.5).float().item()\n",
        "\n",
        "    return \"Spam\" if pred == 1.0 else \"Bukan Spam\"\n",
        "\n",
        "# Contoh\n",
        "\n",
        "print(predict(\"Transfer uang sekarang juga ke rekening ini!\"))\n",
        "print(predict(\"Selamat! Anda telah memenangkan undian jutaan rupiah, klik di sini untuk klaim hadiah Anda sekarang!\"))\n",
        "print(predict(\"Posisi mesin pencari menjadi daftar pertama di mesin pencari teratas segera. Perusahaan kami sekarang akan menempatkan bisnis apa pun dengan situs web yang memenuhi syarat secara permanen di bagian atas mesin pencari utama yang dijamin tidak akan pernah bergerak (mis: yahoo !, msn, alta vista, dll.). Promosi ini mencakup lalu lintas tanpa batas dan tidak akan bertahan lama. Jika Anda tertarik untuk dijamin posisi pertama di mesin pencari teratas dengan biaya promosi, silakan hubungi kami segera untuk mengetahui apakah Anda memenuhi syarat melalui email di SearchL 1 @ Telefonica. net. PE itu sangat penting untuk memasukkan URL jika Anda tertarik untuk mempromosikan! ! ! Ini bukan pembayaran per klik. Contoh akan diberikan. Promosi ini hanya berlaku di AS dan Kanada. Hormat kami, spesialis penempatan mesin pencari jika Anda ingin dihapus dari daftar ini, harap tanggapi alamat email berikut dan ketik kata \"\"hapus\"\" di baris subjek Anda: cari 6 @ speedy. com. pe\"))\n",
        "print(predict(\"halo aku sore isri dari masa depan\"))\n"
      ]
    },
    {
      "cell_type": "code",
      "execution_count": null,
      "metadata": {},
      "outputs": [],
      "source": [
        "torch.save(model.state_dict(), 'model.pt') # save Model"
      ]
    }
  ],
  "metadata": {
    "colab": {
      "provenance": []
    },
    "kernelspec": {
      "display_name": "Python 3",
      "language": "python",
      "name": "python3"
    },
    "language_info": {
      "codemirror_mode": {
        "name": "ipython",
        "version": 3
      },
      "file_extension": ".py",
      "mimetype": "text/x-python",
      "name": "python",
      "nbconvert_exporter": "python",
      "pygments_lexer": "ipython3",
      "version": "3.11.3"
    }
  },
  "nbformat": 4,
  "nbformat_minor": 0
}
